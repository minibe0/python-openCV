{
  "nbformat": 4,
  "nbformat_minor": 0,
  "metadata": {
    "colab": {
      "name": "openCV 이미지연산.ipynb",
      "provenance": [],
      "private_outputs": true,
      "collapsed_sections": [],
      "mount_file_id": "1nQlSi5zmthHU2UYnkroun31xHuLRVYYJ",
      "authorship_tag": "ABX9TyMKu7LouoS8E8gdTzLprwbG",
      "include_colab_link": true
    },
    "kernelspec": {
      "name": "python3",
      "display_name": "Python 3"
    },
    "accelerator": "GPU"
  },
  "cells": [
    {
      "cell_type": "markdown",
      "metadata": {
        "id": "view-in-github",
        "colab_type": "text"
      },
      "source": [
        "<a href=\"https://colab.research.google.com/github/minibe0/python-practice/blob/master/openCV_%EC%9D%B4%EB%AF%B8%EC%A7%80%EC%97%B0%EC%82%B0.ipynb\" target=\"_parent\"><img src=\"https://colab.research.google.com/assets/colab-badge.svg\" alt=\"Open In Colab\"/></a>"
      ]
    },
    {
      "cell_type": "code",
      "metadata": {
        "id": "4SOZFPc0vWqv",
        "colab_type": "code",
        "colab": {}
      },
      "source": [
        "from google.colab import files\n",
        "uploaded = files.upload()\n"
      ],
      "execution_count": 0,
      "outputs": []
    },
    {
      "cell_type": "code",
      "metadata": {
        "id": "fAzQMTSaw0Gz",
        "colab_type": "code",
        "colab": {}
      },
      "source": [
        "import cv2\n",
        "image=cv2.imread('pang.jpg')\n",
        "\n",
        "#  픽셀 수 및 이미지 크기 확인\n",
        "print (image.shape)\n",
        "print (image.size)\n",
        "\n",
        "#이미지  numpy 객체의 특정 픽셀을 가리킵니다.\n",
        "px=image[100, 100]\n",
        "\n",
        "# B,G,R  순서대로 출력됨\n",
        "#단, Gray Scale인 경우  B,G,R로 구분되지 않는다.\n",
        "print(px)\n",
        "\n",
        "#R 값만 출력하기\n",
        "print(px[2])"
      ],
      "execution_count": 0,
      "outputs": []
    },
    {
      "cell_type": "code",
      "metadata": {
        "id": "whVCkxNOyjrQ",
        "colab_type": "code",
        "colab": {}
      },
      "source": [
        "\n",
        "# openCV를 확용한 특정 범위 픽셀 변경\n",
        "from google.colab import files\n",
        "upladed=files.upload()\n",
        "\n",
        "import cv2\n",
        "import matplotlib.pyplot as plt\n",
        "import time\n",
        "\n",
        "image = cv2.imread('pang.jpg')\n",
        "\n",
        "start_time = time.time()\n",
        "for i in range(0, 100):\n",
        "  for j in range(0,100):\n",
        "   image[i,j] = [255,255,255]\n",
        "  print(\"---%s seconds---\"% (time.time()- start_time))\n",
        "  plt.imshow(cv2.cvtColor(image, cv2.COLOR_BGR2RGB))\n",
        "  plt.show()"
      ],
      "execution_count": 0,
      "outputs": []
    },
    {
      "cell_type": "code",
      "metadata": {
        "colab_type": "code",
        "id": "i3ykXdMp2mpJ",
        "colab": {}
      },
      "source": [
        "\n",
        "# openCV를 확용한 특정 범위 픽셀 변경\n",
        "\n",
        "\n",
        "import cv2\n",
        "import matplotlib.pyplot as plt\n",
        "import time\n",
        "\n",
        "image = cv2.imread('pang.jpg')\n",
        "\n",
        "start_time = time.time()\n",
        "for i in range(0, 100):\n",
        "  for j in range(0,100):\n",
        "   image[i,j] = [255,255,255]\n",
        "  print(\"---%s seconds---\"% (time.time()- start_time))\n",
        "\n",
        "\n",
        "start_time = time.time()\n",
        "image[0:100, 0:100 ] =[0,0,0]\n",
        "print(\"---%s seconds---\"% (time.time()- start_time))\n",
        "plt.imshow(cv2.cvtColor(image, cv2.COLOR_BGR2RGB))\n",
        "plt.show()"
      ],
      "execution_count": 0,
      "outputs": []
    },
    {
      "cell_type": "markdown",
      "metadata": {
        "id": "UIx1v_wy4HLP",
        "colab_type": "text"
      },
      "source": [
        "openCV를 이용한  ROI(Region of Interest) 가져오기"
      ]
    },
    {
      "cell_type": "code",
      "metadata": {
        "id": "MdQBhbMh4y4U",
        "colab_type": "code",
        "colab": {}
      },
      "source": [
        "from google.colab import files\n",
        "uploaded = files.upload()\n"
      ],
      "execution_count": 0,
      "outputs": []
    },
    {
      "cell_type": "code",
      "metadata": {
        "id": "XR1W_Y1A4bSs",
        "colab_type": "code",
        "colab": {}
      },
      "source": [
        "import cv2\n",
        "import matplotlib.pyplot as plt\n",
        "\n",
        "image=cv2.imread('pang.jpg')\n",
        "print(image.shape)\n",
        "plt.imshow(cv2.cvtColor(image, cv2.COLOR_BGR2RGB))\n",
        "plt.show()\n",
        "#numpy Slicing: ROI처리 가능\n",
        "roi=image[100:250, 50:200]\n",
        "\n",
        "#ROI 단위로 이미지 복사하기\n",
        "image[0:150, 0:150] = roi\n",
        "\n",
        "plt.imshow(cv2.cvtColor(image, cv2.COLOR_BGR2RGB))\n",
        "plt.show()"
      ],
      "execution_count": 0,
      "outputs": []
    },
    {
      "cell_type": "markdown",
      "metadata": {
        "id": "S9FCzwVFNP9D",
        "colab_type": "text"
      },
      "source": [
        "openCV를 활용한 픽셀별 색상 다루기"
      ]
    },
    {
      "cell_type": "code",
      "metadata": {
        "id": "_dd7swbdNOdA",
        "colab_type": "code",
        "colab": {}
      },
      "source": [
        "import cv2\n",
        "import matplotlib.pyplot as plt\n",
        "\n",
        "image=cv2.imread('pang.jpg')\n",
        "image[:, :, 2]=0\n",
        "\n",
        "plt.imshow(cv2.cvtColor(image, cv2.COLOR_BGR2RGB))\n",
        "plt.show()"
      ],
      "execution_count": 0,
      "outputs": []
    }
  ]
}