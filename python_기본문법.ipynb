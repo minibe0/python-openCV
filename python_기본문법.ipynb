{
  "nbformat": 4,
  "nbformat_minor": 0,
  "metadata": {
    "colab": {
      "name": "python 기본문법.ipynb",
      "provenance": [],
      "collapsed_sections": [],
      "authorship_tag": "ABX9TyMsqtSDgjuAfyDfHhtUhtsv",
      "include_colab_link": true
    },
    "kernelspec": {
      "name": "python3",
      "display_name": "Python 3"
    }
  },
  "cells": [
    {
      "cell_type": "markdown",
      "metadata": {
        "id": "view-in-github",
        "colab_type": "text"
      },
      "source": [
        "<a href=\"https://colab.research.google.com/github/minibe0/python-practice/blob/master/python_%EA%B8%B0%EB%B3%B8%EB%AC%B8%EB%B2%95.ipynb\" target=\"_parent\"><img src=\"https://colab.research.google.com/assets/colab-badge.svg\" alt=\"Open In Colab\"/></a>"
      ]
    },
    {
      "cell_type": "code",
      "metadata": {
        "id": "-_daUGa8kah7",
        "colab_type": "code",
        "colab": {
          "base_uri": "https://localhost:8080/",
          "height": 51
        },
        "outputId": "b457b2a2-dbee-4c09-91d3-bb3933b5494a"
      },
      "source": [
        "#replace사용법\n",
        "var = \"hello world!\"\n",
        "print(var)\n",
        "var = var.replace('!', '?')\n",
        "print(var)"
      ],
      "execution_count": 8,
      "outputs": [
        {
          "output_type": "stream",
          "text": [
            "hello world!\n",
            "hello world?\n"
          ],
          "name": "stdout"
        }
      ]
    },
    {
      "cell_type": "code",
      "metadata": {
        "id": "Ii1skxWJk2e0",
        "colab_type": "code",
        "colab": {
          "base_uri": "https://localhost:8080/",
          "height": 51
        },
        "outputId": "71ee1827-e1c0-45a1-8efe-617a3e2ffc00"
      },
      "source": [
        "#replace 이용하여 특정 문자 없애기\n",
        "var = \"hello world?\"\n",
        "print(var)\n",
        "var = var.replace('?', '')\n",
        "print(var)"
      ],
      "execution_count": 9,
      "outputs": [
        {
          "output_type": "stream",
          "text": [
            "hello world?\n",
            "hello world\n"
          ],
          "name": "stdout"
        }
      ]
    },
    {
      "cell_type": "code",
      "metadata": {
        "id": "XJ55eYCxlOcb",
        "colab_type": "code",
        "colab": {
          "base_uri": "https://localhost:8080/",
          "height": 51
        },
        "outputId": "34f874ef-4622-45ff-cc7e-60dab3efc960"
      },
      "source": [
        "#replace 이용하여 가격 처리하기1\n",
        "var='19,000원'\n",
        "var=var.replace(',', '')\n",
        "print(var)\n",
        "var=var.replace('원', '')\n",
        "print(var)"
      ],
      "execution_count": 11,
      "outputs": [
        {
          "output_type": "stream",
          "text": [
            "19000원\n",
            "19000\n"
          ],
          "name": "stdout"
        }
      ]
    },
    {
      "cell_type": "code",
      "metadata": {
        "id": "dcF7chN5lpkg",
        "colab_type": "code",
        "colab": {
          "base_uri": "https://localhost:8080/",
          "height": 34
        },
        "outputId": "1932fc57-14e7-4736-db22-c2de8b659b29"
      },
      "source": [
        "#replace 이용하여 가격 처리하기2\n",
        "var='19,000원'\n",
        "var=var.replace(',', '').replace('원', '')\n",
        "print(var)"
      ],
      "execution_count": 12,
      "outputs": [
        {
          "output_type": "stream",
          "text": [
            "19000\n"
          ],
          "name": "stdout"
        }
      ]
    },
    {
      "cell_type": "code",
      "metadata": {
        "id": "KdHnDgmsl3qr",
        "colab_type": "code",
        "colab": {
          "base_uri": "https://localhost:8080/",
          "height": 68
        },
        "outputId": "ca905d5a-e3e6-4121-88b4-3a5eab97c50d"
      },
      "source": [
        "#find이용하여 문자열 찾기1\n",
        "# 찾는 문자열이 존재하지 않으면 -1이 뜬다\n",
        "var = \"hello world\"\n",
        "finded1= var.find('a')\n",
        "finded2= var.find('world')\n",
        "finded3= var.find('W')\n",
        "# 대, 소문자 구분한다. \n",
        "print(finded1)\n",
        "print(finded2)\n",
        "print(finded3)\n"
      ],
      "execution_count": 16,
      "outputs": [
        {
          "output_type": "stream",
          "text": [
            "-1\n",
            "6\n",
            "-1\n"
          ],
          "name": "stdout"
        }
      ]
    },
    {
      "cell_type": "code",
      "metadata": {
        "id": "NpTSsqDsiUaF",
        "colab_type": "code",
        "colab": {
          "base_uri": "https://localhost:8080/",
          "height": 119
        },
        "outputId": "f91cc6a4-74cf-4c22-ac7c-ff3f95b068e3"
      },
      "source": [
        "#인덱싱과 슬라이싱\n",
        "#-값을 주면 마지막.최우측부터 좌측으로 읽는다. (-1은 마지막을 의미함)\n",
        "var = \"hello world\"\n",
        "print(var[:])\n",
        "print(var[:2])\n",
        "print(var[2:])\n",
        "print(var[-1])\n",
        "print(var[-2])\n",
        "print(var[3: -2])"
      ],
      "execution_count": 18,
      "outputs": [
        {
          "output_type": "stream",
          "text": [
            "hello world\n",
            "he\n",
            "llo world\n",
            "d\n",
            "l\n",
            "lo wor\n"
          ],
          "name": "stdout"
        }
      ]
    },
    {
      "cell_type": "code",
      "metadata": {
        "id": "HQbrXQiHh-n_",
        "colab_type": "code",
        "colab": {
          "base_uri": "https://localhost:8080/",
          "height": 51
        },
        "outputId": "733646df-d11c-4693-8ecc-6c21180fa927"
      },
      "source": [
        "#split 특정 문자열 기준으로 나누기\n",
        "var = \"hello world !@\"\n",
        "print(var.split())\n",
        "print(var.split('l'))"
      ],
      "execution_count": 5,
      "outputs": [
        {
          "output_type": "stream",
          "text": [
            "['hello', 'world', '!@']\n",
            "['he', '', 'o wor', 'd !@']\n"
          ],
          "name": "stdout"
        }
      ]
    },
    {
      "cell_type": "code",
      "metadata": {
        "id": "7GHq7MSmph2p",
        "colab_type": "code",
        "colab": {
          "base_uri": "https://localhost:8080/",
          "height": 51
        },
        "outputId": "2c6b7227-49bb-4e86-b660-62d9a6181745"
      },
      "source": [
        "#문자열 대소문자 변환\n",
        "var1=\"hello world\"\n",
        "var2='HELLO WORLD'\n",
        "print(var1.upper())\n",
        "print(var2.lower())"
      ],
      "execution_count": 20,
      "outputs": [
        {
          "output_type": "stream",
          "text": [
            "HELLO WORLD\n",
            "hello world\n"
          ],
          "name": "stdout"
        }
      ]
    },
    {
      "cell_type": "code",
      "metadata": {
        "id": "vK6zRIh_qhUu",
        "colab_type": "code",
        "colab": {
          "base_uri": "https://localhost:8080/",
          "height": 34
        },
        "outputId": "cd0809f8-03e0-4d46-c8ad-05a9af2c245b"
      },
      "source": [
        "#문자열 개수\n",
        "var = \"hello world\"\n",
        "print(len(var))"
      ],
      "execution_count": 22,
      "outputs": [
        {
          "output_type": "stream",
          "text": [
            "11\n"
          ],
          "name": "stdout"
        }
      ]
    },
    {
      "cell_type": "code",
      "metadata": {
        "id": "mwLdS4UFqr2U",
        "colab_type": "code",
        "colab": {
          "base_uri": "https://localhost:8080/",
          "height": 68
        },
        "outputId": "d216b596-7366-4dab-bf3b-6108f96ab533"
      },
      "source": [
        "#공백제거\n",
        "var = \"     hello world     \"\n",
        "print(var.rstrip()) #우측 공백 제거\n",
        "print(var.lstrip()) #좌측 공배 제거\n",
        "print(var.strip()) #양쪽 공백 제거거"
      ],
      "execution_count": 23,
      "outputs": [
        {
          "output_type": "stream",
          "text": [
            "     hello world\n",
            "hello world     \n",
            "hello world\n"
          ],
          "name": "stdout"
        }
      ]
    },
    {
      "cell_type": "code",
      "metadata": {
        "id": "CAScNjGnrC2S",
        "colab_type": "code",
        "colab": {
          "base_uri": "https://localhost:8080/",
          "height": 85
        },
        "outputId": "fec3889e-d682-4ae1-9a8d-e59c051af8e7"
      },
      "source": [
        "#문자열 포맷팅\n",
        "var0 = 'I am' + ' 손민희'\n",
        "print(var0)\n",
        "var1= 'I am {name}'.format(name='손민희')\n",
        "print(var1)\n",
        "var2='I am {0}'.format('손민희')\n",
        "print(var2)\n",
        "var3='I am{0} I am {name}'.format(\"손민희\", name='KSBOX')\n",
        "print(var3)"
      ],
      "execution_count": 25,
      "outputs": [
        {
          "output_type": "stream",
          "text": [
            "I am 손민희\n",
            "I am 손민희\n",
            "I am 손민희\n",
            "I am손민희 I am KSBOX\n"
          ],
          "name": "stdout"
        }
      ]
    },
    {
      "cell_type": "code",
      "metadata": {
        "id": "I16popkAsGeU",
        "colab_type": "code",
        "colab": {
          "base_uri": "https://localhost:8080/",
          "height": 68
        },
        "outputId": "c90b0a6e-fbd3-4ab7-e0e5-056ce18aa22e"
      },
      "source": [
        "#리스트 인덱싱, 슬라이싱\n",
        "var=[1,2, \"3\", 4,5,6]\n",
        "print(var[0])\n",
        "print(var[1])\n",
        "print(var[0:4])"
      ],
      "execution_count": 26,
      "outputs": [
        {
          "output_type": "stream",
          "text": [
            "1\n",
            "2\n",
            "[1, 2, '3', 4]\n"
          ],
          "name": "stdout"
        }
      ]
    },
    {
      "cell_type": "code",
      "metadata": {
        "id": "fz1Lmjups0HC",
        "colab_type": "code",
        "colab": {
          "base_uri": "https://localhost:8080/",
          "height": 34
        },
        "outputId": "139a9018-0bd7-4002-9deb-df14cb555a7d"
      },
      "source": [
        "#split하여 리스트 형태로 변환하기\n",
        "var='hello world'\n",
        "print(var.split())"
      ],
      "execution_count": 27,
      "outputs": [
        {
          "output_type": "stream",
          "text": [
            "['hello', 'world']\n"
          ],
          "name": "stdout"
        }
      ]
    },
    {
      "cell_type": "code",
      "metadata": {
        "id": "L7JSLCcNtC-d",
        "colab_type": "code",
        "colab": {
          "base_uri": "https://localhost:8080/",
          "height": 34
        },
        "outputId": "d9cabd87-3066-4311-ae9e-aba2b8d7bb50"
      },
      "source": [
        "#join을 이용하여 리스트를 문자열로 만들기\n",
        "a=[\"1\", \"2\", \"3\", \"4\"]\n",
        "b='.'.join(a)\n",
        "print(b)"
      ],
      "execution_count": 29,
      "outputs": [
        {
          "output_type": "stream",
          "text": [
            "1.2.3.4\n"
          ],
          "name": "stdout"
        }
      ]
    },
    {
      "cell_type": "code",
      "metadata": {
        "id": "A96raXbFz5XM",
        "colab_type": "code",
        "colab": {
          "base_uri": "https://localhost:8080/",
          "height": 198
        },
        "outputId": "1e5d0cc2-81ac-4b8f-bde1-32ceee0ae583"
      },
      "source": [
        "#join()사용 시 리스트의 각각의 요소는 문자형이어야 한다.\n",
        "a=[\"1\", \"2\", \"3\", \"4\", 5]\n",
        "b='.'.join(a)\n",
        "print(b)"
      ],
      "execution_count": 30,
      "outputs": [
        {
          "output_type": "error",
          "ename": "TypeError",
          "evalue": "ignored",
          "traceback": [
            "\u001b[0;31m---------------------------------------------------------------------------\u001b[0m",
            "\u001b[0;31mTypeError\u001b[0m                                 Traceback (most recent call last)",
            "\u001b[0;32m<ipython-input-30-8ba336ac84a7>\u001b[0m in \u001b[0;36m<module>\u001b[0;34m()\u001b[0m\n\u001b[1;32m      1\u001b[0m \u001b[0ma\u001b[0m\u001b[0;34m=\u001b[0m\u001b[0;34m[\u001b[0m\u001b[0;34m\"1\"\u001b[0m\u001b[0;34m,\u001b[0m \u001b[0;34m\"2\"\u001b[0m\u001b[0;34m,\u001b[0m \u001b[0;34m\"3\"\u001b[0m\u001b[0;34m,\u001b[0m \u001b[0;34m\"4\"\u001b[0m\u001b[0;34m,\u001b[0m \u001b[0;36m5\u001b[0m\u001b[0;34m]\u001b[0m\u001b[0;34m\u001b[0m\u001b[0;34m\u001b[0m\u001b[0m\n\u001b[0;32m----> 2\u001b[0;31m \u001b[0mb\u001b[0m\u001b[0;34m=\u001b[0m\u001b[0;34m'.'\u001b[0m\u001b[0;34m.\u001b[0m\u001b[0mjoin\u001b[0m\u001b[0;34m(\u001b[0m\u001b[0ma\u001b[0m\u001b[0;34m)\u001b[0m\u001b[0;34m\u001b[0m\u001b[0;34m\u001b[0m\u001b[0m\n\u001b[0m\u001b[1;32m      3\u001b[0m \u001b[0mprint\u001b[0m\u001b[0;34m(\u001b[0m\u001b[0mb\u001b[0m\u001b[0;34m)\u001b[0m\u001b[0;34m\u001b[0m\u001b[0;34m\u001b[0m\u001b[0m\n",
            "\u001b[0;31mTypeError\u001b[0m: sequence item 4: expected str instance, int found"
          ]
        }
      ]
    },
    {
      "cell_type": "code",
      "metadata": {
        "id": "h9-cx15V0edG",
        "colab_type": "code",
        "colab": {
          "base_uri": "https://localhost:8080/",
          "height": 153
        },
        "outputId": "dd4dbe8a-4f8b-4e21-9bb4-244b41b30d0f"
      },
      "source": [
        "#중첩된 리스트\n",
        "a=[1,2,3,4, [5,6,7]]\n",
        "print(a)\n",
        "print(a[4])\n",
        "print(a[4][0])\n",
        "print(a[4][1])\n",
        "print(a[4][2])\n",
        "print(a[-1][0])\n",
        "print(a[-1][1])\n",
        "print(a[-1][2])\n"
      ],
      "execution_count": 31,
      "outputs": [
        {
          "output_type": "stream",
          "text": [
            "[1, 2, 3, 4, [5, 6, 7]]\n",
            "[5, 6, 7]\n",
            "5\n",
            "6\n",
            "7\n",
            "5\n",
            "6\n",
            "7\n"
          ],
          "name": "stdout"
        }
      ]
    },
    {
      "cell_type": "code",
      "metadata": {
        "id": "InjhLh621M2I",
        "colab_type": "code",
        "colab": {
          "base_uri": "https://localhost:8080/",
          "height": 68
        },
        "outputId": "13e7c537-dbe6-42ee-8d0d-cd0bfc525198"
      },
      "source": [
        "#리스트 연산\n",
        "#리스트*숫자형: 리스트 반복하기\n",
        "#리스트+리스트: 리스트 합치기\n",
        "\n",
        "#리스트 연산에서는 -, / 불가능\n",
        "\n",
        "var1=[1,2,3,4,5]\n",
        "var2=[6,7,8,9,10]\n",
        "num=3\n",
        "print(var1*3)\n",
        "print(var1+var2)\n",
        "print(var1*num)"
      ],
      "execution_count": 32,
      "outputs": [
        {
          "output_type": "stream",
          "text": [
            "[1, 2, 3, 4, 5, 1, 2, 3, 4, 5, 1, 2, 3, 4, 5]\n",
            "[1, 2, 3, 4, 5, 6, 7, 8, 9, 10]\n",
            "[1, 2, 3, 4, 5, 1, 2, 3, 4, 5, 1, 2, 3, 4, 5]\n"
          ],
          "name": "stdout"
        }
      ]
    },
    {
      "cell_type": "code",
      "metadata": {
        "id": "Oam7Y4Yp1rBW",
        "colab_type": "code",
        "colab": {
          "base_uri": "https://localhost:8080/",
          "height": 119
        },
        "outputId": "d4ba0771-0dc2-40ae-de86-0055120ae786"
      },
      "source": [
        "#인덱싱과 슬라이싱을 이용하여 리스트 수정하기\n",
        "var=[1,2,3,4,5]\n",
        "print(var)\n",
        "var[2] = 10\n",
        "print(var)\n",
        "var[3] = [11,22,33]\n",
        "print(var)\n",
        "\n",
        "var1=[1,2,3,4,5]\n",
        "var2=[1,2,3,4,5]\n",
        "print(var1)\n",
        "var1[2:4] = [0,-1]\n",
        "print(var1)\n",
        "var2[2:4] = [0,-1,-2]\n",
        "print(var2)"
      ],
      "execution_count": 34,
      "outputs": [
        {
          "output_type": "stream",
          "text": [
            "[1, 2, 3, 4, 5]\n",
            "[1, 2, 10, 4, 5]\n",
            "[1, 2, 10, [11, 22, 33], 5]\n",
            "[1, 2, 3, 4, 5]\n",
            "[1, 2, 0, -1, 5]\n",
            "[1, 2, 0, -1, -2, 5]\n"
          ],
          "name": "stdout"
        }
      ]
    },
    {
      "cell_type": "code",
      "metadata": {
        "id": "5KMXZXxm2E6i",
        "colab_type": "code",
        "colab": {
          "base_uri": "https://localhost:8080/",
          "height": 51
        },
        "outputId": "3b29bbac-98be-41a6-e0ad-ac268358fd98"
      },
      "source": [
        "#리스트 요소 삭제 \n",
        "# del 함수 또는 슬라이싱[] 는 삭제를 실행함\n",
        "var1=[1,2,3,4,5]\n",
        "var2=[1,2,3,4,5]\n",
        "del var1[1]\n",
        "var2[0:3] = []\n",
        "print(var1)\n",
        "print(var2)"
      ],
      "execution_count": 35,
      "outputs": [
        {
          "output_type": "stream",
          "text": [
            "[1, 3, 4, 5]\n",
            "[4, 5]\n"
          ],
          "name": "stdout"
        }
      ]
    },
    {
      "cell_type": "code",
      "metadata": {
        "id": "Xm6z-Ttk3E4u",
        "colab_type": "code",
        "colab": {
          "base_uri": "https://localhost:8080/",
          "height": 51
        },
        "outputId": "f4888ecf-ca48-4b51-8ec9-4b4e031107c5"
      },
      "source": [
        "#리스트 요소 추가하기: append()를 이용하여 마지막 요소 뒤에 추가할 수 있다\n",
        "var=[1,2,3,4,5]\n",
        "var.append(10)\n",
        "print(var)\n",
        "var.append(20)\n",
        "print(var)"
      ],
      "execution_count": 36,
      "outputs": [
        {
          "output_type": "stream",
          "text": [
            "[1, 2, 3, 4, 5, 10]\n",
            "[1, 2, 3, 4, 5, 10, 20]\n"
          ],
          "name": "stdout"
        }
      ]
    },
    {
      "cell_type": "code",
      "metadata": {
        "id": "GcSp19ml3Yl0",
        "colab_type": "code",
        "colab": {
          "base_uri": "https://localhost:8080/",
          "height": 85
        },
        "outputId": "a5ba753a-3095-4277-d3a6-02a2a88617a1"
      },
      "source": [
        "#리스트 요소 제거하기: pop()을 이용하면 마지막 요소를 가져오면서(반환) 리스트에서 제거해 준다.\n",
        "# 특정 값을 제거하고 싶다면 remove()를 이용한다.\n",
        "var=[1,2,3,4,5]\n",
        "print(var.pop())\n",
        "print(var)\n",
        "\n",
        "var=[1,2,3,4,5,1,2,3,4,5]\n",
        "print(var.remove(4))\n",
        "print(var)\n",
        "#리스트에서 4 값을 제거한다. 이때 여러 개가 있을 경우 먼저 등장하는 4를 제거해 준다. \n",
        "#None값이 찍히는 이유는 pop()과 다르게 제거된 값을 반환 시켜주지 않기 때문이다. "
      ],
      "execution_count": 39,
      "outputs": [
        {
          "output_type": "stream",
          "text": [
            "5\n",
            "[1, 2, 3, 4]\n",
            "None\n",
            "[1, 2, 3, 5, 1, 2, 3, 4, 5]\n"
          ],
          "name": "stdout"
        }
      ]
    },
    {
      "cell_type": "code",
      "metadata": {
        "id": "zNfngpjG3wiI",
        "colab_type": "code",
        "colab": {
          "base_uri": "https://localhost:8080/",
          "height": 85
        },
        "outputId": "c2107064-dece-4755-d002-01d2c3d1ab52"
      },
      "source": [
        "#리스트 정렬 *내림차순: sort(reverse=True)\n",
        "var=[3,5,1,2,3,4,12,13]\n",
        "var.sort()\n",
        "print(var)\n",
        "var.sort(reverse=True)\n",
        "print(var)\n",
        "\n",
        "var=['a', 'd', 'c', 'b']\n",
        "var.sort()\n",
        "print(var)\n",
        "var.sort(reverse=True)\n",
        "print(var)"
      ],
      "execution_count": 41,
      "outputs": [
        {
          "output_type": "stream",
          "text": [
            "[1, 2, 3, 3, 4, 5, 12, 13]\n",
            "[13, 12, 5, 4, 3, 3, 2, 1]\n",
            "['a', 'b', 'c', 'd']\n",
            "['d', 'c', 'b', 'a']\n"
          ],
          "name": "stdout"
        }
      ]
    },
    {
      "cell_type": "code",
      "metadata": {
        "id": "M-GQ8VV64zVL",
        "colab_type": "code",
        "colab": {
          "base_uri": "https://localhost:8080/",
          "height": 51
        },
        "outputId": "a05d2850-43b9-4138-ab91-5151fefa6e16"
      },
      "source": [
        "#리스트 정렬: 대소문자\n",
        "var=['A', 'd', 'C', 'b']\n",
        "var.sort()\n",
        "print(var)\n",
        "var.sort(reverse=True)\n",
        "print(var)\n",
        "\n",
        "# 대소문자가 섞여 있다면, 대문자가 먼저 정렬된다. 이는 아스키코드로 읽고 정렬하기 때문이다.\n",
        "# 아스키코드 A~Z: 65~90 / a~z: 97~122"
      ],
      "execution_count": 42,
      "outputs": [
        {
          "output_type": "stream",
          "text": [
            "['A', 'C', 'b', 'd']\n",
            "['d', 'b', 'C', 'A']\n"
          ],
          "name": "stdout"
        }
      ]
    },
    {
      "cell_type": "code",
      "metadata": {
        "id": "DN3rpIgF5lUE",
        "colab_type": "code",
        "colab": {
          "base_uri": "https://localhost:8080/",
          "height": 181
        },
        "outputId": "253345f7-33d1-4d20-9084-f36465563d31"
      },
      "source": [
        "a=[75,'a', 'A', 98, 100]\n",
        "print(a.sort())\n",
        "#문자열과 숫자형의 타입을 통일시켜주지 않으면 TypeError 발생\n"
      ],
      "execution_count": 43,
      "outputs": [
        {
          "output_type": "error",
          "ename": "TypeError",
          "evalue": "ignored",
          "traceback": [
            "\u001b[0;31m---------------------------------------------------------------------------\u001b[0m",
            "\u001b[0;31mTypeError\u001b[0m                                 Traceback (most recent call last)",
            "\u001b[0;32m<ipython-input-43-0d39ee7f1547>\u001b[0m in \u001b[0;36m<module>\u001b[0;34m()\u001b[0m\n\u001b[1;32m      1\u001b[0m \u001b[0ma\u001b[0m\u001b[0;34m=\u001b[0m\u001b[0;34m[\u001b[0m\u001b[0;36m75\u001b[0m\u001b[0;34m,\u001b[0m\u001b[0;34m'a'\u001b[0m\u001b[0;34m,\u001b[0m \u001b[0;34m'A'\u001b[0m\u001b[0;34m,\u001b[0m \u001b[0;36m98\u001b[0m\u001b[0;34m,\u001b[0m \u001b[0;36m100\u001b[0m\u001b[0;34m]\u001b[0m\u001b[0;34m\u001b[0m\u001b[0;34m\u001b[0m\u001b[0m\n\u001b[0;32m----> 2\u001b[0;31m \u001b[0mprint\u001b[0m\u001b[0;34m(\u001b[0m\u001b[0ma\u001b[0m\u001b[0;34m.\u001b[0m\u001b[0msort\u001b[0m\u001b[0;34m(\u001b[0m\u001b[0;34m)\u001b[0m\u001b[0;34m)\u001b[0m\u001b[0;34m\u001b[0m\u001b[0;34m\u001b[0m\u001b[0m\n\u001b[0m",
            "\u001b[0;31mTypeError\u001b[0m: '<' not supported between instances of 'str' and 'int'"
          ]
        }
      ]
    },
    {
      "cell_type": "code",
      "metadata": {
        "id": "zsCxPII86AHt",
        "colab_type": "code",
        "colab": {
          "base_uri": "https://localhost:8080/",
          "height": 34
        },
        "outputId": "3f11af86-ba27-4ce0-a97e-84f4f688fd24"
      },
      "source": [
        "# 리스트 길이\n",
        "var=[1,2,3,4,5,6,7]\n",
        "print(len(var))"
      ],
      "execution_count": 45,
      "outputs": [
        {
          "output_type": "stream",
          "text": [
            "7\n"
          ],
          "name": "stdout"
        }
      ]
    },
    {
      "cell_type": "code",
      "metadata": {
        "id": "d6ygt7-b6Q1q",
        "colab_type": "code",
        "colab": {
          "base_uri": "https://localhost:8080/",
          "height": 85
        },
        "outputId": "4dd0bd37-39f6-4197-cd7b-f406ee8183f6"
      },
      "source": [
        "#딕셔너리: 순서가 없음 (*리스트는 순서 존재)\n",
        "#{key:value}\n",
        "var1=dict({'key1': 'value1', 'key2':'value2'})\n",
        "var2={'key1':'value1', 'key2':'value2'}\n",
        "print(var1)\n",
        "print(var2)\n",
        "print(var1['key1'])\n",
        "print(var2['key2'])\n"
      ],
      "execution_count": 46,
      "outputs": [
        {
          "output_type": "stream",
          "text": [
            "{'key1': 'value1', 'key2': 'value2'}\n",
            "{'key1': 'value1', 'key2': 'value2'}\n",
            "value1\n",
            "value2\n"
          ],
          "name": "stdout"
        }
      ]
    },
    {
      "cell_type": "code",
      "metadata": {
        "id": "XmFhZKIj7xGq",
        "colab_type": "code",
        "colab": {
          "base_uri": "https://localhost:8080/",
          "height": 85
        },
        "outputId": "cf03f2ab-e898-40be-9a97-96ededd8d32a"
      },
      "source": [
        "#get() 함수를 이용하면 없는 키를 접근할 때 에러가 발생하지 않는다.\n",
        "# 키가 없으면 None값을 출력한다. \n",
        "# 키가 없으면 기본값을 설정 할 수 있다.\n",
        "\n",
        "var={'key1':'value1'}\n",
        "print(var.get('key1'))\n",
        "print(var.get('key1', 'default value'))\n",
        "print(var.get('key2'))\n",
        "print(var.get('key2', 'default value'))"
      ],
      "execution_count": 48,
      "outputs": [
        {
          "output_type": "stream",
          "text": [
            "value1\n",
            "value1\n",
            "None\n",
            "default value\n"
          ],
          "name": "stdout"
        }
      ]
    },
    {
      "cell_type": "code",
      "metadata": {
        "id": "snlgW0p68Mbb",
        "colab_type": "code",
        "colab": {
          "base_uri": "https://localhost:8080/",
          "height": 68
        },
        "outputId": "0b2e1181-e798-4445-bbf5-39c45226dcdd"
      },
      "source": [
        "# 딕셔너리에 키 값 추가하기\n",
        "# 키의 중복을 허용하지 않는다.\n",
        "# 이미 생성된 키에 수정이 이루어 진다.\n",
        "var = {}\n",
        "print(var)\n",
        "var['key1']=10\n",
        "print(var)\n",
        "var['key1']=20\n",
        "var['key2']=30\n",
        "print(var)"
      ],
      "execution_count": 50,
      "outputs": [
        {
          "output_type": "stream",
          "text": [
            "{}\n",
            "{'key1': 10}\n",
            "{'key1': 20, 'key2': 30}\n"
          ],
          "name": "stdout"
        }
      ]
    },
    {
      "cell_type": "code",
      "metadata": {
        "id": "Xnx7NZJ89Or3",
        "colab_type": "code",
        "colab": {
          "base_uri": "https://localhost:8080/",
          "height": 68
        },
        "outputId": "04c3b094-d6cf-4221-a57f-b991486c4ac3"
      },
      "source": [
        "# sedefault() 함수를 이용하여 키가 존재할 때는 어떤 작업도 하지 않도록 설정한다.\n",
        "var = {}\n",
        "print(var)\n",
        "var.setdefault('key1', 10)\n",
        "print(var)\n",
        "\n",
        "#key1: 10 은 이미 존재하므로 작업하지 않는다.\n",
        "var.setdefault('key1', 20)\n",
        "\n",
        "var.setdefault('key2', 30)\n",
        "print(var)"
      ],
      "execution_count": 51,
      "outputs": [
        {
          "output_type": "stream",
          "text": [
            "{}\n",
            "{'key1': 10}\n",
            "{'key1': 10, 'key2': 30}\n"
          ],
          "name": "stdout"
        }
      ]
    },
    {
      "cell_type": "code",
      "metadata": {
        "id": "GWvXnoaN9006",
        "colab_type": "code",
        "colab": {
          "base_uri": "https://localhost:8080/",
          "height": 51
        },
        "outputId": "d5911e03-ae0f-4fd0-a895-74163dad4e6b"
      },
      "source": [
        "#keys()와 values()를 이용하여 리스트 모양으로 출력한다. (리스트처럼 인덱싱과 슬라이싱은 불가함-> 리스트로 만들어 주면 가능?)\n",
        "var={'key1':'value1', 'key2':'value2', 'key3':'value3'}\n",
        "print(var.keys())\n",
        "print(var.values())"
      ],
      "execution_count": 54,
      "outputs": [
        {
          "output_type": "stream",
          "text": [
            "dict_keys(['key1', 'key2', 'key3'])\n",
            "dict_values(['value1', 'value2', 'value3'])\n"
          ],
          "name": "stdout"
        }
      ]
    },
    {
      "cell_type": "code",
      "metadata": {
        "id": "ira3WL_R-4eB",
        "colab_type": "code",
        "colab": {
          "base_uri": "https://localhost:8080/",
          "height": 34
        },
        "outputId": "5feaf42c-2c30-4f25-e098-c4a93aeaddc9"
      },
      "source": [
        "var={'key1':'value1', 'key2':'value2', 'key3':'value3'}\n",
        "print(var.items())"
      ],
      "execution_count": 55,
      "outputs": [
        {
          "output_type": "stream",
          "text": [
            "dict_items([('key1', 'value1'), ('key2', 'value2'), ('key3', 'value3')])\n"
          ],
          "name": "stdout"
        }
      ]
    },
    {
      "cell_type": "code",
      "metadata": {
        "id": "HUtJJxLx-8bM",
        "colab_type": "code",
        "colab": {
          "base_uri": "https://localhost:8080/",
          "height": 51
        },
        "outputId": "14656b70-6ad6-4177-f50a-9454f4c7c7dc"
      },
      "source": [
        "#딕셔너리 함수로 만든 리스트 인덱싱하기\n",
        "var={'key1':'value1', 'key2':'value2', 'key3':'value3'}\n",
        "values=list(var.values())\n",
        "\n",
        "print(values)\n",
        "print(values[0])"
      ],
      "execution_count": 57,
      "outputs": [
        {
          "output_type": "stream",
          "text": [
            "['value1', 'value2', 'value3']\n",
            "value1\n"
          ],
          "name": "stdout"
        }
      ]
    },
    {
      "cell_type": "code",
      "metadata": {
        "id": "zI2O0Kdc_ubo",
        "colab_type": "code",
        "colab": {
          "base_uri": "https://localhost:8080/",
          "height": 51
        },
        "outputId": "d37d2470-f0e3-4384-cc09-2cf23ad72413"
      },
      "source": [
        "#키 존재 검사 [키 in 딕셔너리 변수]\n",
        "var={'key1':'value1', 'key2':'value2', 'key3':'value3'}\n",
        "print ('key1' in var)\n",
        "print('hello' in var)"
      ],
      "execution_count": 59,
      "outputs": [
        {
          "output_type": "stream",
          "text": [
            "True\n",
            "False\n"
          ],
          "name": "stdout"
        }
      ]
    },
    {
      "cell_type": "code",
      "metadata": {
        "id": "SMStBee__8FQ",
        "colab_type": "code",
        "colab": {
          "base_uri": "https://localhost:8080/",
          "height": 85
        },
        "outputId": "3910508f-5e4b-49e6-daac-0ddd97767b1b"
      },
      "source": [
        "#튜플 생성\n",
        "var1 = tuple((1,))\n",
        "var2 = tuple((1,2,3))\n",
        "var3 = (1,)\n",
        "var4 = (1,2,3)\n",
        "print(var1)\n",
        "print(var2)\n",
        "print(var3)\n",
        "print(var4)"
      ],
      "execution_count": 63,
      "outputs": [
        {
          "output_type": "stream",
          "text": [
            "(1,)\n",
            "(1, 2, 3)\n",
            "(1,)\n",
            "(1, 2, 3)\n"
          ],
          "name": "stdout"
        }
      ]
    },
    {
      "cell_type": "code",
      "metadata": {
        "id": "-yaOMwXFAg_v",
        "colab_type": "code",
        "colab": {
          "base_uri": "https://localhost:8080/",
          "height": 102
        },
        "outputId": "55756240-c67d-41aa-9c1e-f9e8b77414c4"
      },
      "source": [
        "#while문을 이용한 반복문\n",
        "count = 0\n",
        "while count <5:\n",
        "  print('%d 번째'%(count))\n",
        "  count+=1\n",
        "  "
      ],
      "execution_count": 1,
      "outputs": [
        {
          "output_type": "stream",
          "text": [
            "0 번째\n",
            "1 번째\n",
            "2 번째\n",
            "3 번째\n",
            "4 번째\n"
          ],
          "name": "stdout"
        }
      ]
    },
    {
      "cell_type": "code",
      "metadata": {
        "id": "sxpuifU2bvp6",
        "colab_type": "code",
        "colab": {
          "base_uri": "https://localhost:8080/",
          "height": 102
        },
        "outputId": "c71b10cd-9cf3-4177-88fa-9515596e402a"
      },
      "source": [
        "#for문을 이용한 반복문\n",
        "#range() 이용\n",
        "\n",
        "for i in range(0,5):\n",
        "  print('%d 번째'%(i))\n"
      ],
      "execution_count": 4,
      "outputs": [
        {
          "output_type": "stream",
          "text": [
            "0 번째\n",
            "1 번째\n",
            "2 번째\n",
            "3 번째\n",
            "4 번째\n"
          ],
          "name": "stdout"
        }
      ]
    },
    {
      "cell_type": "code",
      "metadata": {
        "id": "naRkE-licJWg",
        "colab_type": "code",
        "colab": {
          "base_uri": "https://localhost:8080/",
          "height": 136
        },
        "outputId": "3a06860b-bb5a-44d0-fb7d-b03a31e253af"
      },
      "source": [
        "#문자열을 이용\n",
        "for i in 'minibe0':\n",
        "  print(i)"
      ],
      "execution_count": 6,
      "outputs": [
        {
          "output_type": "stream",
          "text": [
            "m\n",
            "i\n",
            "n\n",
            "i\n",
            "b\n",
            "e\n",
            "0\n"
          ],
          "name": "stdout"
        }
      ]
    },
    {
      "cell_type": "code",
      "metadata": {
        "id": "HQ12It0hcXOl",
        "colab_type": "code",
        "colab": {
          "base_uri": "https://localhost:8080/",
          "height": 102
        },
        "outputId": "baaaeb59-059c-4f3b-98c7-b65349f716c9"
      },
      "source": [
        "#리스트를 이용\n",
        "for i in [11,22,33,44,55]:\n",
        "  print(i)"
      ],
      "execution_count": 8,
      "outputs": [
        {
          "output_type": "stream",
          "text": [
            "11\n",
            "22\n",
            "33\n",
            "44\n",
            "55\n"
          ],
          "name": "stdout"
        }
      ]
    },
    {
      "cell_type": "code",
      "metadata": {
        "id": "ueBHv7UQci8C",
        "colab_type": "code",
        "colab": {
          "base_uri": "https://localhost:8080/",
          "height": 119
        },
        "outputId": "969eda26-b336-4176-ec83-25a0729386dc"
      },
      "source": [
        "#딕셔너리를 이용\n",
        "var={'key1':'value1', 'key2':'value2', 'key3':'value3'}\n",
        "\n",
        "for key in var:\n",
        "  print(key)\n",
        "  print(var[key])\n",
        "\n",
        "#딕셔너리를 반복문에 활용할 경우 (딕셔너리는 순서가 존재하지 않기 때문에)실행시킬 때마다 키를 가져오는 순서가 달라진다. "
      ],
      "execution_count": 13,
      "outputs": [
        {
          "output_type": "stream",
          "text": [
            "key1\n",
            "value1\n",
            "key2\n",
            "value2\n",
            "key3\n",
            "value3\n"
          ],
          "name": "stdout"
        }
      ]
    },
    {
      "cell_type": "code",
      "metadata": {
        "id": "KAz0sT-ccyr_",
        "colab_type": "code",
        "colab": {
          "base_uri": "https://localhost:8080/",
          "height": 85
        },
        "outputId": "7ad0ff69-2539-4595-c37a-35fd5f40c3f0"
      },
      "source": [
        "#for문을 이용한 구구단 출력\n",
        "for i in range(2,4):\n",
        "  for j in range(2,4):\n",
        "    print('%d * %d = %d'% (i,j, i*j))"
      ],
      "execution_count": 18,
      "outputs": [
        {
          "output_type": "stream",
          "text": [
            "2 * 2 = 4\n",
            "2 * 3 = 6\n",
            "3 * 2 = 6\n",
            "3 * 3 = 9\n"
          ],
          "name": "stdout"
        }
      ]
    },
    {
      "cell_type": "code",
      "metadata": {
        "id": "HmAdRwxHdbgG",
        "colab_type": "code",
        "colab": {
          "base_uri": "https://localhost:8080/",
          "height": 54
        },
        "outputId": "8e03fddd-b9e0-46fa-b55b-d69658b22d17"
      },
      "source": [
        "#for문을 이용한 문자열 빈도수 측정\n",
        "\n",
        "var = 'We are tired of living in an online world where people are isolated from each other on boring, generic social networks that dont let us truly express ourselves. Its time we took back our personalities from these sterilized, lifeless, monetized, data mined, monitored addiction machines and let our creativity flourish again. Thats where Neocities comes in. We provide a canvas for people to make any web site they want. Whether it be a web site about something theyre good at, something they love, something they hate, or their own completely customized profile where they can introduce themselves in a way that actually matters to them.'\n",
        "\n",
        "space_ps = var.split(' ')\n",
        "\n",
        "char_frequency = {}\n",
        "\n",
        "for char in space_ps:\n",
        "  char_frequency.setdefault(char, 0)\n",
        "  char_frequency[char] +=1\n",
        "print(char_frequency)\n",
        "\n",
        "# 작동 원리: split()을 이용해서 띄어쓰기 space 단위로 나누어 단어 리스트를 만들어 준다.\n",
        "# 만들어진 리스트를 이용하여 반복문을 돌려준 뒤 setdefault()를 이용하여 해당 단어가 char_frequency에 없다면 단어를 키로 0값을 만들어 주고,  +1 증가시켜 준다\n",
        "# 단어의 키가 있다면 0으로 값이 바뀌지 않고 +1만 된다."
      ],
      "execution_count": 21,
      "outputs": [
        {
          "output_type": "stream",
          "text": [
            "{'We': 2, 'are': 2, 'tired': 1, 'of': 1, 'living': 1, 'in': 2, 'an': 1, 'online': 1, 'world': 1, 'where': 3, 'people': 2, 'isolated': 1, 'from': 2, 'each': 1, 'other': 1, 'on': 1, 'boring,': 1, 'generic': 1, 'social': 1, 'networks': 1, 'that': 2, 'dont': 1, 'let': 2, 'us': 1, 'truly': 1, 'express': 1, 'ourselves.': 1, 'Its': 1, 'time': 1, 'we': 1, 'took': 1, 'back': 1, 'our': 2, 'personalities': 1, 'these': 1, 'sterilized,': 1, 'lifeless,': 1, 'monetized,': 1, 'data': 1, 'mined,': 1, 'monitored': 1, 'addiction': 1, 'machines': 1, 'and': 1, 'creativity': 1, 'flourish': 1, 'again.': 1, 'Thats': 1, 'Neocities': 1, 'comes': 1, 'in.': 1, 'provide': 1, 'a': 3, 'canvas': 1, 'for': 1, 'to': 2, 'make': 1, 'any': 1, 'web': 2, 'site': 2, 'they': 4, 'want.': 1, 'Whether': 1, 'it': 1, 'be': 1, 'about': 1, 'something': 3, 'theyre': 1, 'good': 1, 'at,': 1, 'love,': 1, 'hate,': 1, 'or': 1, 'their': 1, 'own': 1, 'completely': 1, 'customized': 1, 'profile': 1, 'can': 1, 'introduce': 1, 'themselves': 1, 'way': 1, 'actually': 1, 'matters': 1, 'them.': 1}\n"
          ],
          "name": "stdout"
        }
      ]
    },
    {
      "cell_type": "code",
      "metadata": {
        "id": "U0MQS8vheqNi",
        "colab_type": "code",
        "colab": {}
      },
      "source": [
        ""
      ],
      "execution_count": 0,
      "outputs": []
    }
  ]
}