{
  "nbformat": 4,
  "nbformat_minor": 0,
  "metadata": {
    "colab": {
      "name": "numpy활용-08062020.ipynb",
      "provenance": [],
      "collapsed_sections": [],
      "authorship_tag": "ABX9TyNamFb71DpBYGSneof41kpw",
      "include_colab_link": true
    },
    "kernelspec": {
      "name": "python3",
      "display_name": "Python 3"
    }
  },
  "cells": [
    {
      "cell_type": "markdown",
      "metadata": {
        "id": "view-in-github",
        "colab_type": "text"
      },
      "source": [
        "<a href=\"https://colab.research.google.com/github/minibe0/python-practice/blob/master/numpy%ED%99%9C%EC%9A%A9_08062020.ipynb\" target=\"_parent\"><img src=\"https://colab.research.google.com/assets/colab-badge.svg\" alt=\"Open In Colab\"/></a>"
      ]
    },
    {
      "cell_type": "code",
      "metadata": {
        "id": "10xwRPKT4qEK",
        "colab_type": "code",
        "outputId": "3e6a7249-0bdd-4215-91bf-9d51dbbaced5",
        "colab": {
          "base_uri": "https://localhost:8080/",
          "height": 35
        }
      },
      "source": [
        "import numpy as np\n",
        "#  단일 객체 저장 및 불러오기\n",
        "array=np.arange(0,10)\n",
        "np.save('saved.npy',array)\n",
        "\n",
        "result=np.load('saved.npy')\n",
        "print(result)"
      ],
      "execution_count": 0,
      "outputs": [
        {
          "output_type": "stream",
          "text": [
            "[0 1 2 3 4 5 6 7 8 9]\n"
          ],
          "name": "stdout"
        }
      ]
    },
    {
      "cell_type": "code",
      "metadata": {
        "id": "SZNl8_b84r-m",
        "colab_type": "code",
        "colab": {
          "base_uri": "https://localhost:8080/",
          "height": 53
        },
        "outputId": "18857e34-c129-46c1-eb25-902f120ba484"
      },
      "source": [
        "array1=np.arange(0, 10)\n",
        "array2=np.arange(10, 20)\n",
        "np.savez('saved.npz', array1=array1, array2=array2)\n",
        "\n",
        "data=np.load('saved.npz')\n",
        "result1=data['array1']\n",
        "result2=data['array2']\n",
        "print(result1)\n",
        "print(result2)"
      ],
      "execution_count": 9,
      "outputs": [
        {
          "output_type": "stream",
          "text": [
            "[0 1 2 3 4 5 6 7 8 9]\n",
            "[10 11 12 13 14 15 16 17 18 19]\n"
          ],
          "name": "stdout"
        }
      ]
    },
    {
      "cell_type": "code",
      "metadata": {
        "id": "vQQGccCK5vh3",
        "colab_type": "code",
        "colab": {
          "base_uri": "https://localhost:8080/",
          "height": 35
        },
        "outputId": "9cf27ad5-5393-4eab-e0d4-39686cf58471"
      },
      "source": [
        "#numpy 원소 오름차순 정렬\n",
        "array=np.array([5,9,10,3,1])\n",
        "array.sort()\n",
        "# 내림차순\n",
        "print(array[::-1])"
      ],
      "execution_count": 12,
      "outputs": [
        {
          "output_type": "stream",
          "text": [
            "[10  9  5  3  1]\n"
          ],
          "name": "stdout"
        }
      ]
    },
    {
      "cell_type": "code",
      "metadata": {
        "id": "94EyJuSX6QWt",
        "colab_type": "code",
        "colab": {
          "base_uri": "https://localhost:8080/",
          "height": 126
        },
        "outputId": "35b2f666-b114-4aed-d2d7-6121bcdd9f0e"
      },
      "source": [
        "#각 열을 기준으로 정렬\n",
        "array=np.array([[5,9,10,3,1], [8,3,4,2,5]])\n",
        "\n",
        "print(array)\n",
        "array.sort(axis=0)\n",
        "print(array)\n",
        "\n",
        "array.sort(axis=1)\n",
        "print(array)"
      ],
      "execution_count": 17,
      "outputs": [
        {
          "output_type": "stream",
          "text": [
            "[[ 5  9 10  3  1]\n",
            " [ 8  3  4  2  5]]\n",
            "[[ 5  3  4  2  1]\n",
            " [ 8  9 10  3  5]]\n",
            "[[ 1  2  3  4  5]\n",
            " [ 3  5  8  9 10]]\n"
          ],
          "name": "stdout"
        }
      ]
    },
    {
      "cell_type": "code",
      "metadata": {
        "id": "jDWqPNWw7LOA",
        "colab_type": "code",
        "colab": {
          "base_uri": "https://localhost:8080/",
          "height": 126
        },
        "outputId": "ae2a635c-7e8d-4c3a-83c7-b5a91413a5dc"
      },
      "source": [
        "#균일한 간격으로 데이터 생성\n",
        "array=np.linspace(0,10,5)\n",
        "print(array)\n",
        "\n",
        "#난수의 재연 (실행마다 결과 동일)\n",
        "np.random.seed(7)\n",
        "print(np.random.randint(0,10,(2,3)))\n",
        "\n",
        "#numpy 배열 객체 복사\n",
        "array1=np.arange(0,10)\n",
        "array2=array1.copy()\n",
        "array2[0]=99\n",
        "print(array1)\n",
        "print(array2)\n",
        "\n",
        "#중복된 원소 제거\n",
        "array=np.array([1,1,2,2,3,3,3,4])\n",
        "print(np.unique(array))"
      ],
      "execution_count": 28,
      "outputs": [
        {
          "output_type": "stream",
          "text": [
            "[ 0.   2.5  5.   7.5 10. ]\n",
            "[[4 9 6]\n",
            " [3 3 7]]\n",
            "[0 1 2 3 4 5 6 7 8 9]\n",
            "[99  1  2  3  4  5  6  7  8  9]\n",
            "[1 2 3 4]\n"
          ],
          "name": "stdout"
        }
      ]
    }
  ]
}