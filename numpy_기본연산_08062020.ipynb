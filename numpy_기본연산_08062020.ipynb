{
  "nbformat": 4,
  "nbformat_minor": 0,
  "metadata": {
    "colab": {
      "name": "numpy 기본연산-08062020.ipynb",
      "provenance": [],
      "collapsed_sections": [],
      "authorship_tag": "ABX9TyM6sSh3DxJui7L/cS9k2SXl",
      "include_colab_link": true
    },
    "kernelspec": {
      "name": "python3",
      "display_name": "Python 3"
    }
  },
  "cells": [
    {
      "cell_type": "markdown",
      "metadata": {
        "id": "view-in-github",
        "colab_type": "text"
      },
      "source": [
        "<a href=\"https://colab.research.google.com/github/minibe0/python-practice/blob/master/numpy_%EA%B8%B0%EB%B3%B8%EC%97%B0%EC%82%B0_08062020.ipynb\" target=\"_parent\"><img src=\"https://colab.research.google.com/assets/colab-badge.svg\" alt=\"Open In Colab\"/></a>"
      ]
    },
    {
      "cell_type": "code",
      "metadata": {
        "id": "dS0YuuUMNWyV",
        "colab_type": "code",
        "outputId": "3de72512-0626-44c4-c162-bebbeb132673",
        "colab": {
          "base_uri": "https://localhost:8080/",
          "height": 71
        }
      },
      "source": [
        "import numpy as np\n",
        "list_data = [1,2,3]\n",
        "array = np.array(list_data)\n",
        "print(array.size)\n",
        "print(array.dtype)\n",
        "print(array[2])"
      ],
      "execution_count": 0,
      "outputs": [
        {
          "output_type": "stream",
          "text": [
            "3\n",
            "int64\n",
            "3\n"
          ],
          "name": "stdout"
        }
      ]
    },
    {
      "cell_type": "markdown",
      "metadata": {
        "id": "XWHguHxaOihE",
        "colab_type": "text"
      },
      "source": [
        "0부터 3까지의 배열 만들기\n"
      ]
    },
    {
      "cell_type": "code",
      "metadata": {
        "id": "iH85nll6OAOu",
        "colab_type": "code",
        "outputId": "1f0c46c2-e96e-4c1c-a6a1-c4eb91c137c2",
        "colab": {
          "base_uri": "https://localhost:8080/",
          "height": 162
        }
      },
      "source": [
        "array1=np.arange(4)\n",
        "print(array1)\n",
        "\n",
        "array2 = np.zeros((4,4), dtype=float)\n",
        "print(array2)\n",
        "\n",
        "array3=np.ones((3,3), dtype=str)\n",
        "print(array3)"
      ],
      "execution_count": 0,
      "outputs": [
        {
          "output_type": "stream",
          "text": [
            "[0 1 2 3]\n",
            "[[0. 0. 0. 0.]\n",
            " [0. 0. 0. 0.]\n",
            " [0. 0. 0. 0.]\n",
            " [0. 0. 0. 0.]]\n",
            "[['1' '1' '1']\n",
            " ['1' '1' '1']\n",
            " ['1' '1' '1']]\n"
          ],
          "name": "stdout"
        }
      ]
    },
    {
      "cell_type": "markdown",
      "metadata": {
        "id": "2zYB_Ss1Prz1",
        "colab_type": "text"
      },
      "source": [
        "0부터 9까지   랜덤하게 초기화 된 배열 만들기"
      ]
    },
    {
      "cell_type": "code",
      "metadata": {
        "id": "njuAjnuQO17m",
        "colab_type": "code",
        "outputId": "a54738ed-68ed-4037-eb24-c8b8bc2fe47d",
        "colab": {
          "base_uri": "https://localhost:8080/",
          "height": 126
        }
      },
      "source": [
        "array4=np.random.randint(0,10, (3,3))\n",
        "print(array4)\n",
        "\n",
        "#평균이 0 이고, 표준편차가 1인 표준 정규를 띄는 배열\n",
        "array5=np.random.normal(0,1, (3,3))\n",
        "print(array5)"
      ],
      "execution_count": 0,
      "outputs": [
        {
          "output_type": "stream",
          "text": [
            "[[5 7 3]\n",
            " [4 3 2]\n",
            " [9 5 3]]\n",
            "[[-0.55525554 -0.06090171  0.17279847]\n",
            " [ 0.40002993 -0.12561394  0.68689139]\n",
            " [ 0.92870759 -0.23266942 -0.2062757 ]]\n"
          ],
          "name": "stdout"
        }
      ]
    },
    {
      "cell_type": "code",
      "metadata": {
        "id": "4k8SouwvREMx",
        "colab_type": "code",
        "outputId": "1d2aaa60-9153-43c2-d0be-5b352a6c5b0f",
        "colab": {
          "base_uri": "https://localhost:8080/",
          "height": 53
        }
      },
      "source": [
        "array1=np.array([1,2,3])\n",
        "array2=np.array([4,5,6])\n",
        "array3=np.concatenate([array1, array2])\n",
        "print(array3.shape)\n",
        "print(array3)"
      ],
      "execution_count": 0,
      "outputs": [
        {
          "output_type": "stream",
          "text": [
            "(6,)\n",
            "[1 2 3 4 5 6]\n"
          ],
          "name": "stdout"
        }
      ]
    },
    {
      "cell_type": "markdown",
      "metadata": {
        "id": "lYEZaMzZsE63",
        "colab_type": "text"
      },
      "source": [
        "배열 형식 변경하기"
      ]
    },
    {
      "cell_type": "code",
      "metadata": {
        "id": "s0-PEdZ2oLSU",
        "colab_type": "code",
        "outputId": "d2367321-2c58-4beb-ace0-7c2fc91eb999",
        "colab": {
          "base_uri": "https://localhost:8080/",
          "height": 53
        }
      },
      "source": [
        "import numpy as np\n",
        "array1=np.array([1,2,3,4])\n",
        "array2=array1.reshape((2,2))\n",
        "\n",
        "print(array2)\n"
      ],
      "execution_count": 0,
      "outputs": [
        {
          "output_type": "stream",
          "text": [
            "[[1 2]\n",
            " [3 4]]\n"
          ],
          "name": "stdout"
        }
      ]
    },
    {
      "cell_type": "markdown",
      "metadata": {
        "id": "S9VwM4KcsBOn",
        "colab_type": "text"
      },
      "source": [
        "배열 더하기"
      ]
    },
    {
      "cell_type": "code",
      "metadata": {
        "id": "U5eHGUhUpjun",
        "colab_type": "code",
        "outputId": "c59e43c4-e628-4dbd-f4ca-f4e0e8e8fc7c",
        "colab": {
          "base_uri": "https://localhost:8080/",
          "height": 71
        }
      },
      "source": [
        "array1=np.arange(4).reshape(1,4)\n",
        "array2=np.arange(8).reshape(2,4)\n",
        "\n",
        "array3=np.concatenate([array1, array2], axis=0)\n",
        "print(array3)"
      ],
      "execution_count": 0,
      "outputs": [
        {
          "output_type": "stream",
          "text": [
            "[[0 1 2 3]\n",
            " [0 1 2 3]\n",
            " [4 5 6 7]]\n"
          ],
          "name": "stdout"
        }
      ]
    },
    {
      "cell_type": "markdown",
      "metadata": {
        "id": "Fq-aIX0_r-6O",
        "colab_type": "text"
      },
      "source": [
        "배열 나누기"
      ]
    },
    {
      "cell_type": "code",
      "metadata": {
        "id": "z469DXdhrPy0",
        "colab_type": "code",
        "outputId": "2e15d6ea-9d47-430e-b5d8-26dc98117cc9",
        "colab": {
          "base_uri": "https://localhost:8080/",
          "height": 162
        }
      },
      "source": [
        "array =np.arange(8).reshape(2,4)\n",
        "left, right =np.split(array, [2], axis=1)\n",
        "print(left.shape)\n",
        "print(right.shape)\n",
        "print(left)\n",
        "print(right)"
      ],
      "execution_count": 0,
      "outputs": [
        {
          "output_type": "stream",
          "text": [
            "(2, 2)\n",
            "(2, 2)\n",
            "[[0 1 2 3]\n",
            " [4 5 6 7]]\n",
            "[[0 1]\n",
            " [4 5]]\n",
            "[[2 3]\n",
            " [6 7]]\n"
          ],
          "name": "stdout"
        }
      ]
    },
    {
      "cell_type": "code",
      "metadata": {
        "id": "uHlYCiHbtyGw",
        "colab_type": "code",
        "colab": {}
      },
      "source": [
        ""
      ],
      "execution_count": 0,
      "outputs": []
    },
    {
      "cell_type": "code",
      "metadata": {
        "id": "SgmmwbIStN6j",
        "colab_type": "code",
        "outputId": "78377de4-b6df-4c53-e6fc-2905c4fe7f63",
        "colab": {
          "base_uri": "https://localhost:8080/",
          "height": 35
        }
      },
      "source": [
        "array=np.arange(1,5)\n",
        "array1=array+2\n",
        "print(array1)"
      ],
      "execution_count": 0,
      "outputs": [
        {
          "output_type": "stream",
          "text": [
            "[3 4 5 6]\n"
          ],
          "name": "stdout"
        }
      ]
    },
    {
      "cell_type": "code",
      "metadata": {
        "colab_type": "code",
        "outputId": "12a245ed-163e-4845-eb24-713ecbe6de74",
        "id": "dZdvmtLTtzKw",
        "colab": {
          "base_uri": "https://localhost:8080/",
          "height": 35
        }
      },
      "source": [
        "array=np.arange(1,5)\n",
        "array1=array*2\n",
        "print(array1)"
      ],
      "execution_count": 0,
      "outputs": [
        {
          "output_type": "stream",
          "text": [
            "[2 4 6 8]\n"
          ],
          "name": "stdout"
        }
      ]
    },
    {
      "cell_type": "code",
      "metadata": {
        "id": "mhIpkdszuBXp",
        "colab_type": "code",
        "outputId": "29daa247-2c7f-4060-d264-dcde60afb7e0",
        "colab": {
          "base_uri": "https://localhost:8080/",
          "height": 53
        }
      },
      "source": [
        "array=np.random.randint(1,10, size=4).reshape(2,2)\n",
        "print(array)"
      ],
      "execution_count": 0,
      "outputs": [
        {
          "output_type": "stream",
          "text": [
            "[[9 5]\n",
            " [3 7]]\n"
          ],
          "name": "stdout"
        }
      ]
    },
    {
      "cell_type": "code",
      "metadata": {
        "id": "cw9mrzoxuVsw",
        "colab_type": "code",
        "outputId": "057e0db3-5bc7-4821-e306-fbb827bac305",
        "colab": {
          "base_uri": "https://localhost:8080/",
          "height": 53
        }
      },
      "source": [
        "result_array=array*10\n",
        "print(result_array)"
      ],
      "execution_count": 0,
      "outputs": [
        {
          "output_type": "stream",
          "text": [
            "[[90 50]\n",
            " [30 70]]\n"
          ],
          "name": "stdout"
        }
      ]
    },
    {
      "cell_type": "markdown",
      "metadata": {
        "id": "afV1dXWouisi",
        "colab_type": "text"
      },
      "source": [
        "서로 다른 형태의 배열을 연산할 때 **행우선**으로 수행한다 \n",
        "\n",
        "broadcasting: 형태가 다른 배열을 연산할 수 있도록 배열의 형태를 동적으로 변환"
      ]
    },
    {
      "cell_type": "code",
      "metadata": {
        "id": "obIU_4nKxiTh",
        "colab_type": "code",
        "outputId": "8e359178-3b04-4edc-ad43-53acefa56684",
        "colab": {
          "base_uri": "https://localhost:8080/",
          "height": 53
        }
      },
      "source": [
        "array1=np.arange(4).reshape(2,2)\n",
        "array2=np.arange(2)\n",
        "\n",
        "array3=array1+array2\n",
        "print(array3)"
      ],
      "execution_count": 0,
      "outputs": [
        {
          "output_type": "stream",
          "text": [
            "[[0 2]\n",
            " [2 4]]\n"
          ],
          "name": "stdout"
        }
      ]
    },
    {
      "cell_type": "code",
      "metadata": {
        "id": "asLni_bryXgM",
        "colab_type": "code",
        "outputId": "ac428a22-fe64-48cc-fa0b-c96d16678153",
        "colab": {
          "base_uri": "https://localhost:8080/",
          "height": 234
        }
      },
      "source": [
        "array=np.arange(0,8).reshape(2,4)\n",
        "array1=np.arange(0,8).reshape(2,4)\n",
        "array2=np.concatenate([array,array1], axis=0)\n",
        "array3=np.arange(0,4).reshape(4,1)\n",
        "print(array2)\n",
        "print(array3)\n",
        "print(array2+array3)"
      ],
      "execution_count": 0,
      "outputs": [
        {
          "output_type": "stream",
          "text": [
            "[[0 1 2 3]\n",
            " [4 5 6 7]\n",
            " [0 1 2 3]\n",
            " [4 5 6 7]]\n",
            "[[0]\n",
            " [1]\n",
            " [2]\n",
            " [3]]\n",
            "[[ 0  1  2  3]\n",
            " [ 5  6  7  8]\n",
            " [ 2  3  4  5]\n",
            " [ 7  8  9 10]]\n"
          ],
          "name": "stdout"
        }
      ]
    },
    {
      "cell_type": "markdown",
      "metadata": {
        "id": "WEtq5VoQ0kUl",
        "colab_type": "text"
      },
      "source": [
        "마스킹연산: 각 원소에 대하여 체크 ( T or F)\n",
        "\n",
        "활용예: 이미지 처리 시 특정색상값을 변환(너무 밝은 색상은 다른 색상으로 변경 등)"
      ]
    },
    {
      "cell_type": "code",
      "metadata": {
        "id": "gUVkgeId0paE",
        "colab_type": "code",
        "outputId": "420e3d9b-6181-449e-c20a-1bb8116c6739",
        "colab": {
          "base_uri": "https://localhost:8080/",
          "height": 234
        }
      },
      "source": [
        "array1=np.arange(16).reshape(4,4)\n",
        "print(array1)\n",
        "\n",
        "array2=array1<10\n",
        "print(array2)\n",
        "\n",
        "array1[array2]=100\n",
        "print(array1)"
      ],
      "execution_count": 0,
      "outputs": [
        {
          "output_type": "stream",
          "text": [
            "[[ 0  1  2  3]\n",
            " [ 4  5  6  7]\n",
            " [ 8  9 10 11]\n",
            " [12 13 14 15]]\n",
            "[[ True  True  True  True]\n",
            " [ True  True  True  True]\n",
            " [ True  True False False]\n",
            " [False False False False]]\n",
            "[[100 100 100 100]\n",
            " [100 100 100 100]\n",
            " [100 100  10  11]\n",
            " [ 12  13  14  15]]\n"
          ],
          "name": "stdout"
        }
      ]
    },
    {
      "cell_type": "markdown",
      "metadata": {
        "id": "FgXP0xXr2HiY",
        "colab_type": "text"
      },
      "source": [
        "집계 연산\n",
        "\n",
        "최대값 / 최소값/ 평균값 등"
      ]
    },
    {
      "cell_type": "code",
      "metadata": {
        "id": "qqbvi2UA2GDO",
        "colab_type": "code",
        "outputId": "e8e900d1-d286-45d9-9acc-f54ec3a3bd34",
        "colab": {
          "base_uri": "https://localhost:8080/",
          "height": 162
        }
      },
      "source": [
        "array=np.arange(16).reshape(4,4)\n",
        "\n",
        "print(array)\n",
        "print(\"max\", np.max(array))\n",
        "print(\"min\", np.min(array))\n",
        "print(\"sum\", np.sum(array))\n",
        "print(\"avg\", np.mean(array))"
      ],
      "execution_count": 0,
      "outputs": [
        {
          "output_type": "stream",
          "text": [
            "[[ 0  1  2  3]\n",
            " [ 4  5  6  7]\n",
            " [ 8  9 10 11]\n",
            " [12 13 14 15]]\n",
            "max 15\n",
            "min 0\n",
            "sum 120\n",
            "avg 7.5\n"
          ],
          "name": "stdout"
        }
      ]
    },
    {
      "cell_type": "code",
      "metadata": {
        "id": "tWvUZbgH2-og",
        "colab_type": "code",
        "outputId": "1db13387-2cbf-469b-f9c3-847d464f00a0",
        "colab": {
          "base_uri": "https://localhost:8080/",
          "height": 126
        }
      },
      "source": [
        "array=np.arange(16).reshape(4,4)\n",
        "\n",
        "print(array)\n",
        "print(\"sum\", np.sum(array, axis=0))\n",
        "print(\"sum2\", np.sum(array, axis=1))"
      ],
      "execution_count": 0,
      "outputs": [
        {
          "output_type": "stream",
          "text": [
            "[[ 0  1  2  3]\n",
            " [ 4  5  6  7]\n",
            " [ 8  9 10 11]\n",
            " [12 13 14 15]]\n",
            "sum [24 28 32 36]\n",
            "sum2 [ 6 22 38 54]\n"
          ],
          "name": "stdout"
        }
      ]
    }
  ]
}